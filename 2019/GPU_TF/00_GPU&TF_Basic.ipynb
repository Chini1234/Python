{
 "cells": [
  {
   "cell_type": "code",
   "execution_count": 44,
   "metadata": {},
   "outputs": [
    {
     "name": "stdout",
     "output_type": "stream",
     "text": [
      "1.13.1\n"
     ]
    }
   ],
   "source": [
    "import tensorflow as tf\n",
    "print(tf.__version__)"
   ]
  },
  {
   "cell_type": "code",
   "execution_count": 25,
   "metadata": {},
   "outputs": [
    {
     "name": "stdout",
     "output_type": "stream",
     "text": [
      "Tensor(\"Add_16:0\", shape=(3,), dtype=float32)\n"
     ]
    }
   ],
   "source": [
    "a = tf.constant([5.0,3.0,7.1])\n",
    "b = tf.constant([2.3,4.1,4.8])\n",
    "c = tf.add(a,b)\n",
    "print(c)"
   ]
  },
  {
   "cell_type": "code",
   "execution_count": 31,
   "metadata": {},
   "outputs": [
    {
     "name": "stdout",
     "output_type": "stream",
     "text": [
      "Tensor(\"Add_23:0\", shape=(3,), dtype=float32)\n",
      "[ 7.3  7.1 11.9]\n"
     ]
    }
   ],
   "source": [
    "a = tf.constant([5.0,3.0,7.1])\n",
    "b = tf.constant([2.3,4.1,4.8])\n",
    "c = tf.add(a,b)\n",
    "sess = tf.Session()\n",
    "print(c)\n",
    "print(sess.run(c))"
   ]
  },
  {
   "cell_type": "code",
   "execution_count": 32,
   "metadata": {},
   "outputs": [
    {
     "name": "stdout",
     "output_type": "stream",
     "text": [
      "Tensor(\"Add_24:0\", shape=(?,), dtype=float32)\n"
     ]
    }
   ],
   "source": [
    "a = tf.placeholder(dtype=tf.float32, shape=(None,))\n",
    "b = tf.placeholder(dtype=tf.float32, shape=(None,))\n",
    "c = tf.add(a,b)\n",
    "print(c)"
   ]
  },
  {
   "cell_type": "code",
   "execution_count": 33,
   "metadata": {},
   "outputs": [
    {
     "name": "stdout",
     "output_type": "stream",
     "text": [
      "Tensor(\"Add_25:0\", shape=(?,), dtype=float32)\n",
      "[ 7.3  7.1 11.9]\n"
     ]
    }
   ],
   "source": [
    "a = tf.placeholder(dtype=tf.float32, shape=(None,))\n",
    "b = tf.placeholder(dtype=tf.float32, shape=(None,))\n",
    "c = tf.add(a,b)\n",
    "sess = tf.Session()\n",
    "print(c)\n",
    "print(sess.run(c, feed_dict={a:[5.0,3.0,7.1], b:[2.3,4.1,4.8]}))"
   ]
  },
  {
   "cell_type": "code",
   "execution_count": 34,
   "metadata": {},
   "outputs": [
    {
     "name": "stdout",
     "output_type": "stream",
     "text": [
      "[6.278497 4.709139]\n"
     ]
    }
   ],
   "source": [
    "def compute_area(sides):\n",
    "    a = sides[:,0]\n",
    "    b = sides[:,1]\n",
    "    c = sides[:,2]\n",
    "    s = (a+b+c)*0.5\n",
    "    areasq = s*(s-a)*(s-b)*(s-c)\n",
    "    return(tf.sqrt(areasq))\n",
    "\n",
    "with tf.Session() as sess:\n",
    "    area = compute_area(tf.constant([\n",
    "        [5.0,3.0,7.1],\n",
    "        [2.3,4.1,4.8]\n",
    "    ]))\n",
    "    result = sess.run(area)\n",
    "    print(result)"
   ]
  },
  {
   "cell_type": "code",
   "execution_count": 35,
   "metadata": {},
   "outputs": [
    {
     "name": "stdout",
     "output_type": "stream",
     "text": [
      "[node {\n",
      "  name: \"Sqrt_4\"\n",
      "  op: \"Const\"\n",
      "  device: \"/job:localhost/replica:0/task:0/device:GPU:0\"\n",
      "  attr {\n",
      "    key: \"dtype\"\n",
      "    value {\n",
      "      type: DT_FLOAT\n",
      "    }\n",
      "  }\n",
      "  attr {\n",
      "    key: \"value\"\n",
      "    value {\n",
      "      tensor {\n",
      "        dtype: DT_FLOAT\n",
      "        tensor_shape {\n",
      "          dim {\n",
      "            size: 2\n",
      "          }\n",
      "        }\n",
      "        tensor_content: \"s\\351\\310@D\\261\\226@\"\n",
      "      }\n",
      "    }\n",
      "  }\n",
      "  experimental_debug_info {\n",
      "    original_node_names: \"Sqrt_4\"\n",
      "  }\n",
      "}\n",
      "node {\n",
      "  name: \"Sqrt_4/_0\"\n",
      "  op: \"_Send\"\n",
      "  input: \"Sqrt_4\"\n",
      "  device: \"/job:localhost/replica:0/task:0/device:GPU:0\"\n",
      "  attr {\n",
      "    key: \"T\"\n",
      "    value {\n",
      "      type: DT_FLOAT\n",
      "    }\n",
      "  }\n",
      "  attr {\n",
      "    key: \"client_terminated\"\n",
      "    value {\n",
      "      b: false\n",
      "    }\n",
      "  }\n",
      "  attr {\n",
      "    key: \"recv_device\"\n",
      "    value {\n",
      "      s: \"/job:localhost/replica:0/task:0/device:CPU:0\"\n",
      "    }\n",
      "  }\n",
      "  attr {\n",
      "    key: \"send_device\"\n",
      "    value {\n",
      "      s: \"/job:localhost/replica:0/task:0/device:GPU:0\"\n",
      "    }\n",
      "  }\n",
      "  attr {\n",
      "    key: \"send_device_incarnation\"\n",
      "    value {\n",
      "      i: 1\n",
      "    }\n",
      "  }\n",
      "  attr {\n",
      "    key: \"tensor_name\"\n",
      "    value {\n",
      "      s: \"edge_4_Sqrt_4\"\n",
      "    }\n",
      "  }\n",
      "  experimental_debug_info {\n",
      "    original_node_names: \"Sqrt_4\"\n",
      "  }\n",
      "}\n",
      "library {\n",
      "}\n",
      "versions {\n",
      "  producer: 27\n",
      "}\n",
      ", node {\n",
      "  name: \"Sqrt_4/_1\"\n",
      "  op: \"_Recv\"\n",
      "  device: \"/job:localhost/replica:0/task:0/device:CPU:0\"\n",
      "  attr {\n",
      "    key: \"client_terminated\"\n",
      "    value {\n",
      "      b: false\n",
      "    }\n",
      "  }\n",
      "  attr {\n",
      "    key: \"recv_device\"\n",
      "    value {\n",
      "      s: \"/job:localhost/replica:0/task:0/device:CPU:0\"\n",
      "    }\n",
      "  }\n",
      "  attr {\n",
      "    key: \"send_device\"\n",
      "    value {\n",
      "      s: \"/job:localhost/replica:0/task:0/device:GPU:0\"\n",
      "    }\n",
      "  }\n",
      "  attr {\n",
      "    key: \"send_device_incarnation\"\n",
      "    value {\n",
      "      i: 1\n",
      "    }\n",
      "  }\n",
      "  attr {\n",
      "    key: \"tensor_name\"\n",
      "    value {\n",
      "      s: \"edge_4_Sqrt_4\"\n",
      "    }\n",
      "  }\n",
      "  attr {\n",
      "    key: \"tensor_type\"\n",
      "    value {\n",
      "      type: DT_FLOAT\n",
      "    }\n",
      "  }\n",
      "  experimental_debug_info {\n",
      "    original_node_names: \"Sqrt_4\"\n",
      "  }\n",
      "}\n",
      "node {\n",
      "  name: \"_retval_Sqrt_4_0_0\"\n",
      "  op: \"_Retval\"\n",
      "  input: \"Sqrt_4/_1\"\n",
      "  device: \"/job:localhost/replica:0/task:0/device:CPU:0\"\n",
      "  attr {\n",
      "    key: \"T\"\n",
      "    value {\n",
      "      type: DT_FLOAT\n",
      "    }\n",
      "  }\n",
      "  attr {\n",
      "    key: \"index\"\n",
      "    value {\n",
      "      i: 0\n",
      "    }\n",
      "  }\n",
      "  experimental_debug_info {\n",
      "    original_node_names: \"_retval_Sqrt_4_0_0\"\n",
      "  }\n",
      "}\n",
      "library {\n",
      "}\n",
      "versions {\n",
      "  producer: 27\n",
      "}\n",
      "]\n"
     ]
    }
   ],
   "source": [
    "def compute_area(sides):\n",
    "    a = sides[:,0]\n",
    "    b = sides[:,1]\n",
    "    c = sides[:,2]\n",
    "    s = (a+b+c)*0.5\n",
    "    areasq = s*(s-a)*(s-b)*(s-c)\n",
    "    return(tf.sqrt(areasq))\n",
    "\n",
    "with tf.Session() as sess:\n",
    "    area = compute_area(tf.constant([\n",
    "        [5.0,3.0,7.1],\n",
    "        [2.3,4.1,4.8]\n",
    "    ]))\n",
    "    options = tf.RunOptions(output_partition_graphs=True)\n",
    "    sess = tf.Session(config=tf.ConfigProto(log_device_placement=True))\n",
    "    metadata = tf.RunMetadata()\n",
    "    result = sess.run(area, options=options, run_metadata=metadata)\n",
    "    print(metadata.partition_graphs)"
   ]
  },
  {
   "cell_type": "code",
   "execution_count": 53,
   "metadata": {},
   "outputs": [
    {
     "name": "stdout",
     "output_type": "stream",
     "text": [
      "[6.278497 4.709139]\n"
     ]
    }
   ],
   "source": [
    "#auto dispatch\n",
    "def compute_area(sides):\n",
    "    a = sides[:,0]\n",
    "    b = sides[:,1]\n",
    "    c = sides[:,2]\n",
    "    s = (a+b+c)*0.5\n",
    "    areasq = s*(s-a)*(s-b)*(s-c)\n",
    "    return(tf.sqrt(areasq))\n",
    "\n",
    "sess = tf.Session()\n",
    "area = compute_area(tf.constant([\n",
    "    [5.0,3.0,7.1],\n",
    "    [2.3,4.1,4.8]\n",
    "]))\n",
    "result = sess.run(area)\n",
    "print(result)"
   ]
  },
  {
   "cell_type": "code",
   "execution_count": 54,
   "metadata": {},
   "outputs": [
    {
     "name": "stdout",
     "output_type": "stream",
     "text": [
      "[6.278497 4.709139]\n"
     ]
    }
   ],
   "source": [
    "#dispatch\n",
    "def compute_area(sides):\n",
    "    a = sides[:,0]\n",
    "    b = sides[:,1]\n",
    "    c = sides[:,2]\n",
    "    s = (a+b+c)*0.5\n",
    "    areasq = s*(s-a)*(s-b)*(s-c)\n",
    "    return(tf.sqrt(areasq))\n",
    "\n",
    "with tf.device('/cpu:0'): #gpu:0\n",
    "    sess = tf.Session()\n",
    "    area = compute_area(tf.constant([\n",
    "        [5.0,3.0,7.1],\n",
    "        [2.3,4.1,4.8]\n",
    "    ]))\n",
    "    sess = tf.Session()\n",
    "    result = sess.run(area)\n",
    "    print(result)"
   ]
  },
  {
   "cell_type": "code",
   "execution_count": 58,
   "metadata": {},
   "outputs": [
    {
     "name": "stdout",
     "output_type": "stream",
     "text": [
      "[6.278497 4.709139]\n",
      "[6.278497 4.709139]\n"
     ]
    }
   ],
   "source": [
    "def compute_area(sides):\n",
    "    a = sides[:,0]\n",
    "    b = sides[:,1]\n",
    "    c = sides[:,2]\n",
    "    s = (a+b+c)*0.5\n",
    "    areasq = s*(s-a)*(s-b)*(s-c)\n",
    "    return(tf.sqrt(areasq))\n",
    "for d in ['/device:GPU:1', '/device:GPU:2']:\n",
    "    with tf.device(d):\n",
    "        sess = tf.Session()\n",
    "        area = compute_area(tf.constant([\n",
    "            [5.0,3.0,7.1],\n",
    "            [2.3,4.1,4.8]\n",
    "        ]))\n",
    "    #c.append(tf.add(area))\n",
    "    result = sess.run(area)\n",
    "    \n",
    "    print(result)"
   ]
  },
  {
   "cell_type": "code",
   "execution_count": 6,
   "metadata": {},
   "outputs": [
    {
     "name": "stdout",
     "output_type": "stream",
     "text": [
      "[[ 44.  56.]\n",
      " [ 98. 128.]]\n"
     ]
    }
   ],
   "source": [
    "# Creates a graph.\n",
    "c = []\n",
    "for d in ['/device:GPU:1', '/device:GPU:2']:\n",
    "  with tf.device(d):\n",
    "    a = tf.constant([1.0, 2.0, 3.0, 4.0, 5.0, 6.0], shape=[2, 3])\n",
    "    b = tf.constant([1.0, 2.0, 3.0, 4.0, 5.0, 6.0], shape=[3, 2])\n",
    "    c.append(tf.matmul(a, b))\n",
    "    sum = tf.add_n(c)\n",
    "sess = tf.Session()\n",
    "print(sess.run(sum))\n",
    "sess.close()\n",
    "tf.reset_default_graph()\n"
   ]
  },
  {
   "cell_type": "code",
   "execution_count": 29,
   "metadata": {},
   "outputs": [
    {
     "name": "stdout",
     "output_type": "stream",
     "text": [
      "[[22. 28.]\n",
      " [49. 64.]]\n"
     ]
    }
   ],
   "source": [
    "#GPU\n",
    "with tf.device('/device:GPU:2'):\n",
    "  a = tf.constant([1.0, 2.0, 3.0, 4.0, 5.0, 6.0], shape=[2, 3], name='a')\n",
    "  b = tf.constant([1.0, 2.0, 3.0, 4.0, 5.0, 6.0], shape=[3, 2], name='b')\n",
    "  c = tf.matmul(a, b)\n",
    "sess = tf.Session()\n",
    "print(sess.run(c))"
   ]
  },
  {
   "cell_type": "code",
   "execution_count": 93,
   "metadata": {},
   "outputs": [
    {
     "name": "stdout",
     "output_type": "stream",
     "text": [
      "[[22. 28.]\n",
      " [49. 64.]]\n"
     ]
    }
   ],
   "source": [
    "with tf.device('/gpu:0'):\n",
    "  a = tf.constant([1.0, 2.0, 3.0, 4.0, 5.0, 6.0], shape=[2, 3], name='a')\n",
    "  b = tf.constant([1.0, 2.0, 3.0, 4.0, 5.0, 6.0], shape=[3, 2], name='b')\n",
    "  c = tf.matmul(a, b)\n",
    "sess = tf.Session()\n",
    "print(sess.run(c))"
   ]
  },
  {
   "cell_type": "code",
   "execution_count": 27,
   "metadata": {},
   "outputs": [
    {
     "name": "stdout",
     "output_type": "stream",
     "text": [
      "[[1. 2. 3.]\n",
      " [4. 5. 6.]]\n"
     ]
    }
   ],
   "source": [
    "a = tf.constant([1.0, 2.0, 3.0, 4.0, 5.0, 6.0], shape=[2, 3])\n",
    "sess = tf.Session()\n",
    "print(sess.run(a))"
   ]
  },
  {
   "cell_type": "code",
   "execution_count": 28,
   "metadata": {},
   "outputs": [
    {
     "name": "stdout",
     "output_type": "stream",
     "text": [
      "[[1. 2.]\n",
      " [3. 4.]\n",
      " [5. 6.]]\n"
     ]
    }
   ],
   "source": [
    "a = tf.constant([1.0, 2.0, 3.0, 4.0, 5.0, 6.0], shape=[3, 2])\n",
    "sess = tf.Session()\n",
    "print(sess.run(a))"
   ]
  },
  {
   "cell_type": "code",
   "execution_count": 59,
   "metadata": {},
   "outputs": [],
   "source": [
    "#[1*1+2*3+3*5,1*2+2*4+3*6]\n",
    "#[4*1+5*3+6*5,4*2+5*4+6*6]"
   ]
  },
  {
   "cell_type": "code",
   "execution_count": 73,
   "metadata": {},
   "outputs": [
    {
     "name": "stdout",
     "output_type": "stream",
     "text": [
      "[array([[22., 28.],\n",
      "       [49., 64.]], dtype=float32), array([[22., 28.],\n",
      "       [49., 64.]], dtype=float32)]\n"
     ]
    }
   ],
   "source": [
    "c = []\n",
    "for d in ['/device:GPU:2', '/device:GPU:3']:\n",
    "  with tf.device(d):\n",
    "    a = tf.constant([1.0, 2.0, 3.0, 4.0, 5.0, 6.0], shape=[2, 3])\n",
    "    b = tf.constant([1.0, 2.0, 3.0, 4.0, 5.0, 6.0], shape=[3, 2])\n",
    "    c.append(tf.matmul(a, b))\n",
    "sess = tf.Session()\n",
    "print(sess.run(c))"
   ]
  },
  {
   "cell_type": "code",
   "execution_count": 10,
   "metadata": {},
   "outputs": [],
   "source": [
    "#Exercises\n",
    "#參考上述程式碼，將下面題目改為兩個面積的總和。"
   ]
  },
  {
   "cell_type": "code",
   "execution_count": 69,
   "metadata": {},
   "outputs": [
    {
     "name": "stdout",
     "output_type": "stream",
     "text": [
      "[6.278497 4.709139]\n",
      "[6.278497 4.709139]\n"
     ]
    }
   ],
   "source": [
    "def compute_area(sides):\n",
    "    a = sides[:,0]\n",
    "    b = sides[:,1]\n",
    "    c = sides[:,2]\n",
    "    s = (a+b+c)*0.5\n",
    "    areasq = s*(s-a)*(s-b)*(s-c)\n",
    "    return(tf.sqrt(areasq))\n",
    "for d in ['/device:GPU:1', '/device:GPU:2']:\n",
    "    with tf.device(d):\n",
    "        sess = tf.Session()\n",
    "        area = compute_area(tf.constant([\n",
    "            [5.0,3.0,7.1],\n",
    "            [2.3,4.1,4.8]\n",
    "        ]))\n",
    "    sess = tf.Session()\n",
    "    result = sess.run(area)\n",
    "    print(result)"
   ]
  },
  {
   "cell_type": "code",
   "execution_count": null,
   "metadata": {},
   "outputs": [],
   "source": [
    "#Answer"
   ]
  },
  {
   "cell_type": "code",
   "execution_count": 91,
   "metadata": {},
   "outputs": [
    {
     "name": "stdout",
     "output_type": "stream",
     "text": [
      "[12.556994  9.418278]\n"
     ]
    }
   ],
   "source": [
    "X = []\n",
    "def compute_area(sides):\n",
    "    a = sides[:,0]\n",
    "    b = sides[:,1]\n",
    "    c = sides[:,2]\n",
    "    s = (a+b+c)*0.5\n",
    "    areasq = s*(s-a)*(s-b)*(s-c)\n",
    "    return(tf.sqrt(areasq))\n",
    "for d in ['/device:GPU:1', '/device:GPU:2']:\n",
    "    with tf.device(d):\n",
    "        sess = tf.Session()\n",
    "        area = compute_area(tf.constant([\n",
    "            [5.0,3.0,7.1],\n",
    "            [2.3,4.1,4.8]\n",
    "        ]))\n",
    "        X.append(area)\n",
    "sum_area = tf.add_n(X) #sum of multi-element\n",
    "sess = tf.Session()\n",
    "result = sess.run(sum_area)\n",
    "print(result)"
   ]
  },
  {
   "cell_type": "code",
   "execution_count": null,
   "metadata": {},
   "outputs": [],
   "source": []
  }
 ],
 "metadata": {
  "kernelspec": {
   "display_name": "Python 3",
   "language": "python",
   "name": "python3"
  },
  "language_info": {
   "codemirror_mode": {
    "name": "ipython",
    "version": 3
   },
   "file_extension": ".py",
   "mimetype": "text/x-python",
   "name": "python",
   "nbconvert_exporter": "python",
   "pygments_lexer": "ipython3",
   "version": "3.5.3"
  }
 },
 "nbformat": 4,
 "nbformat_minor": 2
}
