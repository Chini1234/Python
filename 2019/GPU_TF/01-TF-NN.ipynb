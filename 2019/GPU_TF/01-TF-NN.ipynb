{
 "cells": [
  {
   "cell_type": "code",
   "execution_count": 7,
   "metadata": {
    "collapsed": true
   },
   "outputs": [],
   "source": [
    "import numpy as np\n",
    "import tensorflow as tf\n",
    "import matplotlib.pyplot as plt "
   ]
  },
  {
   "cell_type": "code",
   "execution_count": 8,
   "metadata": {
    "collapsed": true
   },
   "outputs": [],
   "source": [
    "np.random.seed(101)\n",
    "tf.set_random_seed(101)"
   ]
  },
  {
   "cell_type": "code",
   "execution_count": 9,
   "metadata": {
    "collapsed": true
   },
   "outputs": [],
   "source": [
    "np.random.seed(101)\n",
    "rand_a = np.random.uniform(0,100,(5,5))\n",
    "rand_b = np.random.uniform(0,100,(5,1))"
   ]
  },
  {
   "cell_type": "markdown",
   "metadata": {},
   "source": [
    "### Placeholders"
   ]
  },
  {
   "cell_type": "code",
   "execution_count": 10,
   "metadata": {
    "collapsed": true
   },
   "outputs": [],
   "source": [
    "a = tf.placeholder(tf.float32)\n",
    "b = tf.placeholder(tf.float32)"
   ]
  },
  {
   "cell_type": "markdown",
   "metadata": {},
   "source": [
    "### Operations"
   ]
  },
  {
   "cell_type": "code",
   "execution_count": 11,
   "metadata": {},
   "outputs": [],
   "source": [
    "add_op = a+b # tf.add(a,b)\n",
    "mult_op = a*b #tf.multiply(a,b)"
   ]
  },
  {
   "cell_type": "markdown",
   "metadata": {},
   "source": [
    "### Running Sessions  to create Graphs with Feed Dictionaries"
   ]
  },
  {
   "cell_type": "code",
   "execution_count": 12,
   "metadata": {},
   "outputs": [
    {
     "name": "stdout",
     "output_type": "stream",
     "text": [
      "[[151.07166  156.49855  102.27921  116.58396  167.95949 ]\n",
      " [135.45622   82.76316  141.42784  124.22093   71.06043 ]\n",
      " [113.30171   93.09215   76.06819  136.43912  154.42728 ]\n",
      " [ 96.71727   81.83804  133.83675  146.38118  101.10579 ]\n",
      " [122.72681  105.982925  59.044632  67.9831    72.89292 ]]\n",
      "\n",
      "\n",
      "[[5134.644   5674.25     283.12433 1705.4707  6813.8315 ]\n",
      " [4341.8125  1598.267   4652.734   3756.8293   988.94635]\n",
      " [3207.8113  2038.1029  1052.7742  4546.9805  5588.1157 ]\n",
      " [1707.379    614.02527 4434.989   5356.7773  2029.8555 ]\n",
      " [3714.0984  2806.6438   262.76764  747.19855 1013.292  ]]\n"
     ]
    }
   ],
   "source": [
    "with tf.Session() as sess:\n",
    "    add_result = sess.run(add_op,feed_dict={a:rand_a,b:rand_b})\n",
    "    print(add_result)\n",
    "    \n",
    "    print('\\n')\n",
    "    \n",
    "    mult_result = sess.run(mult_op,feed_dict={a:rand_a,b:rand_b})\n",
    "    print(mult_result)"
   ]
  },
  {
   "cell_type": "markdown",
   "metadata": {},
   "source": [
    "## Neural Network"
   ]
  },
  {
   "cell_type": "code",
   "execution_count": 25,
   "metadata": {},
   "outputs": [
    {
     "name": "stdout",
     "output_type": "stream",
     "text": [
      "[[0.7145067  0.60286885 0.15875666]]\n"
     ]
    }
   ],
   "source": [
    "#Example NN\n",
    "n_features = 5\n",
    "n_dense_neurons = 3\n",
    "tf.set_random_seed(101)\n",
    "\n",
    "x = tf.placeholder(tf.float32,(None,n_features)) #輸入 \n",
    "b = tf.Variable(tf.zeros([n_dense_neurons])) #偏移量\n",
    "W = tf.Variable(tf.random_normal([n_features,n_dense_neurons])) #權重\n",
    "xW = tf.matmul(x,W) #內積\n",
    "z = tf.add(xW,b)\n",
    "a = tf.sigmoid(z)\n",
    "init = tf.global_variables_initializer()\n",
    "np.random.seed(101)\n",
    "with tf.Session() as sess:\n",
    "    sess.run(init)\n",
    "    layer_out = sess.run(a,feed_dict={x : np.random.random([1,n_features])})\n",
    "print(layer_out)"
   ]
  },
  {
   "cell_type": "code",
   "execution_count": 16,
   "metadata": {},
   "outputs": [],
   "source": [
    "## neural network in pytorch\n",
    "import tensorflow as tf\n",
    "import numpy as np\n",
    "\n",
    "#Input array\n",
    "X = tf.constant([[1,0,1,0],[1,0,1,1],[0,1,0,1]],dtype=tf.float32)\n",
    "\n",
    "#Output\n",
    "y = tf.constant([[1],[1],[0]],dtype=tf.float32)\n",
    "\n",
    "#Sigmoid Function\n",
    "def sigmoid (x):\n",
    "    return 1/(1 + tf.exp(-x))\n",
    "\n",
    "#Derivative of Sigmoid Function\n",
    "def derivatives_sigmoid(x):\n",
    "    return x * (1 - x)"
   ]
  },
  {
   "cell_type": "code",
   "execution_count": 29,
   "metadata": {},
   "outputs": [],
   "source": [
    "#Variable initialization\n",
    "epoch=10 #Setting training iterations\n",
    "lr=0.1 #Setting learning rate\n",
    "inputlayer_neurons = X.shape[1] #number of features in data set\n",
    "hiddenlayer_neurons = 10 #number of hidden layers neurons\n",
    "output_neurons = 1 #number of neurons at output layer"
   ]
  },
  {
   "cell_type": "code",
   "execution_count": 30,
   "metadata": {},
   "outputs": [],
   "source": [
    "wh=tf.random_normal(shape=[int(inputlayer_neurons),int(hiddenlayer_neurons)],mean=0.0,stddev=1.0,dtype=tf.float32,seed=None,name=None)\n",
    "bh=tf.random_normal(shape=[1,int(hiddenlayer_neurons)],mean=0.0,stddev=1.0,dtype=tf.float32,seed=None,name=None)\n",
    "wout=tf.random_normal(shape=[int(hiddenlayer_neurons),int(output_neurons)],mean=0.0,stddev=1.0,dtype=tf.float32,seed=None,name=None)\n",
    "bout=tf.random_normal(shape=[1,int(output_neurons)],mean=0.0,stddev=1.0,dtype=tf.float32,seed=None,name=None)\n",
    "#wh,bh,wout,bout"
   ]
  },
  {
   "cell_type": "code",
   "execution_count": 31,
   "metadata": {},
   "outputs": [
    {
     "name": "stdout",
     "output_type": "stream",
     "text": [
      "Actual :\n",
      " [[1.]\n",
      " [1.]\n",
      " [0.]] \n",
      "\n",
      "Predicted :\n",
      " [[0.96525085]\n",
      " [0.9284785 ]\n",
      " [0.11414953]] \n",
      "\n"
     ]
    }
   ],
   "source": [
    "for i in range(epoch):\n",
    "    hidden_layer_input1 = tf.matmul(X, wh) \n",
    "    hidden_layer_input = hidden_layer_input1 + bh\n",
    "    hidden_layer_activations = sigmoid(hidden_layer_input)\n",
    "    output_layer_input1 = tf.matmul(hidden_layer_activations, wout)\n",
    "    output_layer_input = output_layer_input1 + bout\n",
    "    output = sigmoid(output_layer_input1)\n",
    "    \n",
    "    #Backpropagation\n",
    "    E = y-output\n",
    "    back_output_layer = derivatives_sigmoid(output)\n",
    "    back_hidden_layer = derivatives_sigmoid(hidden_layer_activations)\n",
    "    d_output = E * back_output_layer\n",
    "    Error_at_hidden_layer = tf.matmul(d_output, tf.transpose(wout))\n",
    "    d_hiddenlayer = Error_at_hidden_layer * back_hidden_layer\n",
    "    wout += tf.matmul(tf.transpose(hidden_layer_activations), d_output) *lr\n",
    "    bout += tf.reduce_sum(d_output) *lr\n",
    "    wh += tf.matmul(tf.transpose(X), d_hiddenlayer) *lr\n",
    "    bh += tf.reduce_sum(d_output) *lr\n",
    "\n",
    "\n",
    "sess = tf.Session()\n",
    "print('Actual :\\n', sess.run(y), '\\n')\n",
    "print('Predicted :\\n', sess.run(output), '\\n')"
   ]
  },
  {
   "cell_type": "code",
   "execution_count": null,
   "metadata": {},
   "outputs": [],
   "source": [
    "init = tf.global_variables_initializer()\n",
    "\n",
    "with tf.Session() as sess:\n",
    "     \n",
    "    sess.run(init)\n",
    "    \n",
    "    for i in range(epoch):\n",
    "        hidden_layer_input1 = tf.matmul(X, wh) \n",
    "        hidden_layer_input = hidden_layer_input1 + bh\n",
    "        hidden_layer_activations = sigmoid(hidden_layer_input)\n",
    "        output_layer_input1 = tf.matmul(hidden_layer_activations, wout)\n",
    "        output_layer_input = output_layer_input1 + bout\n",
    "        output = sigmoid(output_layer_input1)\n",
    "        #Backpropagation\n",
    "        E = y-output\n",
    "        back_output_layer = derivatives_sigmoid(output)\n",
    "        back_hidden_layer = derivatives_sigmoid(hidden_layer_activations)\n",
    "        d_output = E * back_output_layer\n",
    "        Error_at_hidden_layer = tf.matmul(d_output, tf.transpose(wout))\n",
    "        d_hiddenlayer = Error_at_hidden_layer * back_hidden_layer\n",
    "        wout += tf.matmul(tf.transpose(hidden_layer_activations), d_output) *lr\n",
    "        bout += tf.reduce_sum(d_output) *lr\n",
    "        wh += tf.matmul(tf.transpose(X), d_hiddenlayer) *lr\n",
    "        bh += tf.reduce_sum(d_output) *lr\n",
    "        \n",
    "        output = sess.run(output)\n",
    "\n",
    "print('Actual :\\n', y, '\\n')\n",
    "print('Predicted :\\n', output, '\\n')"
   ]
  },
  {
   "cell_type": "markdown",
   "metadata": {},
   "source": [
    "## Network with regression\n",
    "\n",
    "y = mx + b\n",
    "\n",
    "y將是y_labels，x是x_data。我們試圖找出最適合我們數據的斜率和截距！"
   ]
  },
  {
   "cell_type": "code",
   "execution_count": 8,
   "metadata": {},
   "outputs": [
    {
     "data": {
      "text/plain": [
       "[<matplotlib.lines.Line2D at 0x7efe37f0aac8>]"
      ]
     },
     "execution_count": 8,
     "metadata": {},
     "output_type": "execute_result"
    },
    {
     "data": {
      "image/png": "[encoded data removed]",
      "text/plain": [
       "<Figure size 432x288 with 1 Axes>"
      ]
     },
     "metadata": {},
     "output_type": "display_data"
    }
   ],
   "source": [
    "import numpy as np\n",
    "import tensorflow as tf\n",
    "import matplotlib.pyplot as plt \n",
    "\n",
    "x_data = np.linspace(0,10,10) + np.random.uniform(-1.5,1.5,10)\n",
    "y_label = np.linspace(0,10,10) + np.random.uniform(-1.5,1.5,10)\n",
    "plt.plot(x_data,y_label,'*')"
   ]
  },
  {
   "cell_type": "code",
   "execution_count": 5,
   "metadata": {
    "collapsed": true
   },
   "outputs": [
    {
     "name": "stdout",
     "output_type": "stream",
     "text": [
      "WARNING:tensorflow:From /usr/local/lib/python3.5/dist-packages/tensorflow/python/framework/op_def_library.py:263: colocate_with (from tensorflow.python.framework.ops) is deprecated and will be removed in a future version.\n",
      "Instructions for updating:\n",
      "Colocations handled automatically by placer.\n"
     ]
    }
   ],
   "source": [
    "m = tf.Variable(0.39)\n",
    "b = tf.Variable(0.2)\n",
    "error = 0\n",
    "for x,y in zip(x_data,y_label):\n",
    "    y_hat = m*x + b  #預測值\n",
    "    error += (y-y_hat)**2 #驗證"
   ]
  },
  {
   "cell_type": "code",
   "execution_count": 9,
   "metadata": {},
   "outputs": [
    {
     "data": {
      "text/plain": [
       "array([-0.93886706,  0.40063532,  2.57163678,  4.30090253,  3.63056585,\n",
       "        5.56990785,  6.71021187,  8.95859065,  8.4601539 ,  9.69932623])"
      ]
     },
     "execution_count": 9,
     "metadata": {},
     "output_type": "execute_result"
    }
   ],
   "source": [
    "x_data"
   ]
  },
  {
   "cell_type": "code",
   "execution_count": 31,
   "metadata": {},
   "outputs": [
    {
     "data": {
      "text/plain": [
       "array([-0.80293901, -0.13820459,  2.53286749,  4.02031161,  3.77316093,\n",
       "        6.11147454,  6.72026909,  6.42323139,  7.8024966 ,  9.06090228])"
      ]
     },
     "execution_count": 31,
     "metadata": {},
     "output_type": "execute_result"
    }
   ],
   "source": [
    "y_label"
   ]
  },
  {
   "cell_type": "markdown",
   "metadata": {},
   "source": [
    "### Optimizer"
   ]
  },
  {
   "cell_type": "code",
   "execution_count": 32,
   "metadata": {
    "collapsed": true
   },
   "outputs": [],
   "source": [
    "optimizer = tf.train.GradientDescentOptimizer(learning_rate=0.001)\n",
    "train = optimizer.minimize(error)"
   ]
  },
  {
   "cell_type": "markdown",
   "metadata": {},
   "source": [
    "### Initialize Variables & Create Session and Run!"
   ]
  },
  {
   "cell_type": "code",
   "execution_count": 33,
   "metadata": {},
   "outputs": [],
   "source": [
    "init = tf.global_variables_initializer()\n",
    "with tf.Session() as sess:\n",
    "    \n",
    "    sess.run(init)\n",
    "    \n",
    "    epochs = 100\n",
    "    \n",
    "    for i in range(epochs):\n",
    "        \n",
    "        sess.run(train)\n",
    "\n",
    "    # 獲得最後結果\n",
    "    final_slope , final_intercept = sess.run([m,b])"
   ]
  },
  {
   "cell_type": "code",
   "execution_count": 34,
   "metadata": {},
   "outputs": [
    {
     "data": {
      "text/plain": [
       "0.8658067"
      ]
     },
     "execution_count": 34,
     "metadata": {},
     "output_type": "execute_result"
    }
   ],
   "source": [
    "final_slope"
   ]
  },
  {
   "cell_type": "code",
   "execution_count": 35,
   "metadata": {},
   "outputs": [
    {
     "data": {
      "text/plain": [
       "0.08357752"
      ]
     },
     "execution_count": 35,
     "metadata": {},
     "output_type": "execute_result"
    }
   ],
   "source": [
    "final_intercept"
   ]
  },
  {
   "cell_type": "markdown",
   "metadata": {},
   "source": [
    "### Evaluate Results"
   ]
  },
  {
   "cell_type": "code",
   "execution_count": 35,
   "metadata": {},
   "outputs": [
    {
     "data": {
      "text/plain": [
       "[<matplotlib.lines.Line2D at 0x7fd77511dac8>]"
      ]
     },
     "execution_count": 35,
     "metadata": {},
     "output_type": "execute_result"
    },
    {
     "data": {
      "image/png": "[encoded data removed]",
      "text/plain": [
       "<Figure size 432x288 with 1 Axes>"
      ]
     },
     "metadata": {},
     "output_type": "display_data"
    }
   ],
   "source": [
    "x_test = np.linspace(-1,11,10)\n",
    "y_pred_plot = final_slope*x_test + final_intercept #按照公式 Y = 斜率*x + 截距\n",
    "\n",
    "plt.plot(x_test,y_pred_plot,'r')\n",
    "plt.plot(x_data,y_label,'*')"
   ]
  }
 ],
 "metadata": {
  "kernelspec": {
   "display_name": "Python 3",
   "language": "python",
   "name": "python3"
  },
  "language_info": {
   "codemirror_mode": {
    "name": "ipython",
    "version": 3
   },
   "file_extension": ".py",
   "mimetype": "text/x-python",
   "name": "python",
   "nbconvert_exporter": "python",
   "pygments_lexer": "ipython3",
   "version": "3.5.3"
  }
 },
 "nbformat": 4,
 "nbformat_minor": 2
}
